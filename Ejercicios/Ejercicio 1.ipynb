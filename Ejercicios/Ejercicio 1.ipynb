{
 "cells": [
  {
   "cell_type": "markdown",
   "metadata": {},
   "source": [
    "### Pequeño Proyecto: Conversor de temperatura"
   ]
  },
  {
   "cell_type": "markdown",
   "metadata": {},
   "source": [
    "Escribe un programa que convierta grados Celsius a Fahrenheit y otro que convierta los grados Fahrenheit a Celsius.\n",
    "\n",
    "La fórmula para convertir de Celsius a Fahrenheit es: F = C * 9/5 + 32\n",
    "La fórmula para convertir de Fahrenheit a Celsius es: C = (F - 32) * 5/9"
   ]
  },
  {
   "cell_type": "code",
   "execution_count": null,
   "metadata": {},
   "outputs": [],
   "source": []
  }
 ],
 "metadata": {
  "language_info": {
   "name": "python"
  }
 },
 "nbformat": 4,
 "nbformat_minor": 2
}
