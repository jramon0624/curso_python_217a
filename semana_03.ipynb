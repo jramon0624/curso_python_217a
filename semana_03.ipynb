{
 "cells": [
  {
   "cell_type": "markdown",
   "id": "a7f1e731",
   "metadata": {},
   "source": [
    "# Semana 3: Estructuras de datos\n",
    "\n",
    "Las estructuras de datos en Python son fundamentales para organizar y manipular los datos en sus proyectos. En diversas aplicaciones se manipulan grandes cantidades de datos, estas estructuras facilitan el almacenamiento y manipulación de estos. En este Notebook veremos algunas de las estructuras de datos más comunes utilizadas en Python."
   ]
  },
  {
   "cell_type": "markdown",
   "id": "d710d2a9",
   "metadata": {},
   "source": [
    "## Listas, Tuplas y Conjuntos\n",
    "\n",
    "### Listas\n",
    "\n",
    "Las listas son como \"contenedores ordenados\" que pueden almacenar diferentes tipos de datos y pueden modificarse después de su creación. Se pueden agregar o eliminar algunos elementos. Además, se pueden acceder a ellos mediante un indice, el cual indica la posición del \"contenedor\" en el que se encuentra un elemento especifico."
   ]
  },
  {
   "cell_type": "code",
   "execution_count": null,
   "id": "58f80879",
   "metadata": {},
   "outputs": [],
   "source": [
    "# Creación de una lista con datos de un experimento\n",
    "mediciones = [9.8, 9.83, 9.78, 9.82, 9.79]\n",
    "mediciones"
   ]
  },
  {
   "cell_type": "code",
   "execution_count": null,
   "id": "b0988ff2",
   "metadata": {},
   "outputs": [],
   "source": [
    "# Acceder a elementos (índices empiezan en 0)\n",
    "medicion = mediciones[0]  # 9.8\n",
    "medicion"
   ]
  },
  {
   "cell_type": "code",
   "execution_count": null,
   "id": "914fe819",
   "metadata": {},
   "outputs": [],
   "source": [
    "# Modificar elementos\n",
    "mediciones[2] = 0\n",
    "mediciones"
   ]
  },
  {
   "cell_type": "markdown",
   "id": "ac051e0e",
   "metadata": {},
   "source": [
    "Existen algunos métodos y funciones que nos permiten modificar u obtener información de las listas creadas."
   ]
  },
  {
   "cell_type": "code",
   "execution_count": null,
   "id": "6c034709",
   "metadata": {},
   "outputs": [],
   "source": [
    "# Añadir elementos\n",
    "mediciones.append(9.77)\n",
    "mediciones"
   ]
  },
  {
   "cell_type": "code",
   "execution_count": null,
   "id": "2380fe51",
   "metadata": {},
   "outputs": [],
   "source": [
    "# Concatenar listas\n",
    "lista_1 = [1, 2, 3]\n",
    "lista_2 = [4, 5, 6]\n",
    "lista_concatenada = lista_1 + lista_2\n",
    "lista_concatenada"
   ]
  },
  {
   "cell_type": "code",
   "execution_count": null,
   "id": "83de5a93",
   "metadata": {},
   "outputs": [],
   "source": [
    "# Agregar una lista a otra\n",
    "lista_1.extend(lista_2)\n",
    "lista_1"
   ]
  },
  {
   "cell_type": "code",
   "execution_count": null,
   "id": "7abf8bf6",
   "metadata": {},
   "outputs": [],
   "source": [
    "# Longitud de la lista\n",
    "n_mediciones = len(mediciones)  # 6\n",
    "n_mediciones"
   ]
  },
  {
   "cell_type": "markdown",
   "id": "f81c951a",
   "metadata": {},
   "source": [
    "Las rebanadas o slices permiten obtener un segmento de los elementos de una lista a partir de sus indices."
   ]
  },
  {
   "cell_type": "code",
   "execution_count": null,
   "id": "95f975f7",
   "metadata": {},
   "outputs": [],
   "source": [
    "# Rebanadas (slices)\n",
    "primeras_tres = mediciones[0:3]  # [9.8, 9.83, 9.81]\n",
    "primeras_tres"
   ]
  },
  {
   "cell_type": "code",
   "execution_count": null,
   "id": "3899672d",
   "metadata": {},
   "outputs": [],
   "source": [
    "# Interacción con el bucle for\n",
    "for medicion in mediciones:\n",
    "    print(medicion)\n",
    "mediciones"
   ]
  },
  {
   "cell_type": "markdown",
   "id": "733b3ac4",
   "metadata": {},
   "source": [
    "Las listas pueden contener diferentes tipos de datos, proporcionando flexibilidad para manipular una gran cantidad de datos."
   ]
  },
  {
   "cell_type": "code",
   "execution_count": null,
   "id": "917a54c1",
   "metadata": {},
   "outputs": [],
   "source": [
    "# Flexibilidad de las listas\n",
    "# Se pueden mezclar tipos de datos\n",
    "mezcla = [9.8, \"nueve\", True, 3.14]\n",
    "for elemento in mezcla:\n",
    "    print(f'elemento: {elemento:<10}\\t tipo: {type(elemento)}')"
   ]
  },
  {
   "cell_type": "markdown",
   "id": "6248bf32",
   "metadata": {},
   "source": [
    "### Tuplas\n",
    "Las tuplas son como listas pero inmutables (no se pueden modificar después de crearse). Son ideales para datos que no deben cambiar.\n"
   ]
  },
  {
   "cell_type": "code",
   "execution_count": null,
   "id": "0174a584",
   "metadata": {},
   "outputs": [],
   "source": [
    "# Constantes físicas (no queremos que se modifiquen accidentalmente)\n",
    "constante_gravitacional = (6.674e-11, \"N·m²/kg²\")\n",
    "constante_planck = (6.626e-34, \"J·s\")\n",
    "\n",
    "# Las tuplas pueden usarse como claves en diccionarios\n",
    "# No se pueden modificar: constante_planck[0] = 3 daría error"
   ]
  },
  {
   "cell_type": "code",
   "execution_count": null,
   "id": "f392483b",
   "metadata": {},
   "outputs": [],
   "source": [
    "constante_planck[0] = 3"
   ]
  },
  {
   "cell_type": "code",
   "execution_count": null,
   "id": "bb6a9014",
   "metadata": {},
   "outputs": [],
   "source": [
    "constante_gravitacional = (6.674e-11, \"N*m^2/kg^2\")\n",
    "for elemento in constante_gravitacional:\n",
    "    print(f'elemento: {elemento:<10}\\t tipo: {type(elemento)}')"
   ]
  },
  {
   "cell_type": "markdown",
   "id": "40821274",
   "metadata": {},
   "source": [
    "### Conjuntos (sets)\n",
    "\n",
    "Los conjuntos almacenan elementos únicos y no ordenados, ideales para eliminar duplicados y operaciones matemáticas de conjuntos."
   ]
  },
  {
   "cell_type": "code",
   "execution_count": null,
   "id": "834f2980",
   "metadata": {},
   "outputs": [],
   "source": [
    "# Configuraciones cuánticas posibles de un sistema\n",
    "configuracion_A = {0, 1, 2, 3}\n",
    "configuracion_B = {2, 3, 4, 5}\n",
    "\n",
    "# Operaciones de conjuntos\n",
    "interseccion = configuracion_A & configuracion_B  # {2, 3}\n",
    "union = configuracion_A | configuracion_B  # {0, 1, 2, 3, 4, 5}\n",
    "diferencia = configuracion_A - configuracion_B  # {0, 1}"
   ]
  },
  {
   "cell_type": "code",
   "execution_count": null,
   "id": "973f94fe",
   "metadata": {},
   "outputs": [],
   "source": [
    "configuracion_A"
   ]
  },
  {
   "cell_type": "markdown",
   "id": "128ca127",
   "metadata": {},
   "source": [
    "## Diccionarios\n",
    "Los diccionarios son estructuras de datos tipo \"clave-valor\", como un mapa que asocia etiquetas (claves) con valores. Son extremadamente útiles para datos etiquetados."
   ]
  },
  {
   "cell_type": "code",
   "execution_count": null,
   "id": "ee9f36b3",
   "metadata": {},
   "outputs": [],
   "source": [
    "# Propiedades de un material\n",
    "aluminio = {\n",
    "    \"densidad\": 2.7,  # g/cm³\n",
    "    \"conductividad_termica\": 237,  # W/(m·K)\n",
    "    \"punto_fusion\": 660,  # °C\n",
    "    \"modulo_young\": 69e9  # Pa\n",
    "}\n",
    "aluminio"
   ]
  },
  {
   "cell_type": "code",
   "execution_count": null,
   "id": "b17b512c",
   "metadata": {},
   "outputs": [],
   "source": [
    "# Acceder a valores\n",
    "densidad_aluminio = aluminio[\"densidad\"]  # 2.7\n",
    "densidad_aluminio"
   ]
  },
  {
   "cell_type": "code",
   "execution_count": null,
   "id": "8a407493",
   "metadata": {},
   "outputs": [],
   "source": [
    "# Añadir o modificar valores\n",
    "aluminio[\"resistividad\"] = 2.65e-8  # Ohm·m\n",
    "aluminio"
   ]
  },
  {
   "cell_type": "code",
   "execution_count": null,
   "id": "f4274cfb",
   "metadata": {},
   "outputs": [],
   "source": [
    "# Verificar si una clave existe\n",
    "if \"punto_ebullicion\" in aluminio:\n",
    "    print(\"Conocemos el punto de ebullición\")\n",
    "else:\n",
    "    print(\"Punto de ebullición desconocido\")"
   ]
  },
  {
   "cell_type": "code",
   "execution_count": null,
   "id": "da2271af",
   "metadata": {},
   "outputs": [],
   "source": [
    "aluminio.keys()  # ['densidad', 'conductividad_termica', 'punto_fusion', 'modulo_young', 'resistividad']"
   ]
  },
  {
   "cell_type": "code",
   "execution_count": null,
   "id": "e613af4c",
   "metadata": {},
   "outputs": [],
   "source": [
    "for key in aluminio.keys():\n",
    "    print(f'{key}')"
   ]
  },
  {
   "cell_type": "code",
   "execution_count": null,
   "id": "006c3e1c",
   "metadata": {},
   "outputs": [],
   "source": [
    "aluminio.values()  # [2.7, 237, 660, 69000000000.0, 2.65e-08]"
   ]
  },
  {
   "cell_type": "code",
   "execution_count": null,
   "id": "52483da2",
   "metadata": {},
   "outputs": [],
   "source": [
    "for value in aluminio.values():\n",
    "    print(f'{value}')"
   ]
  },
  {
   "cell_type": "code",
   "execution_count": null,
   "id": "b54fbae3",
   "metadata": {},
   "outputs": [],
   "source": [
    "aluminio.items()  # [('densidad', 2.7), ('conductividad_termica', 237), ('punto_fusion', 660), ('modulo_young', 69000000000.0), ('resistividad', 2.65e-08)]"
   ]
  },
  {
   "cell_type": "code",
   "execution_count": null,
   "id": "ad4384d4",
   "metadata": {},
   "outputs": [],
   "source": [
    "for key, value in aluminio.items():\n",
    "    print(f'{key}: {value}')"
   ]
  },
  {
   "cell_type": "markdown",
   "id": "efcda92d",
   "metadata": {},
   "source": [
    "## Manipulación de Cadenas de Texto\n",
    "Las cadenas de texto (strings) son secuencias de caracteres, útiles para datos textuales, nombres, etiquetas y formateo de resultados."
   ]
  },
  {
   "cell_type": "code",
   "execution_count": null,
   "id": "79165ce7",
   "metadata": {},
   "outputs": [],
   "source": [
    "# Formateo de resultados experimentales\n",
    "valor = 9.81\n",
    "incertidumbre = 0.02\n",
    "resultado = f\"g = {valor} ± {incertidumbre} m/s²\"\n",
    "resultado"
   ]
  },
  {
   "cell_type": "code",
   "execution_count": null,
   "id": "f1fc6fc1",
   "metadata": {},
   "outputs": [],
   "source": [
    "# Concatenación\n",
    "titulo = \"Experimento \" + \"de Caída Libre\"\n",
    "titulo"
   ]
  },
  {
   "cell_type": "code",
   "execution_count": null,
   "id": "a441ed19",
   "metadata": {},
   "outputs": [],
   "source": [
    "# Métodos útiles\n",
    "texto = \"  Análisis de Oscilaciones Armónicas  \"\n",
    "texto_limpio = texto.strip()  # Elimina espacios en blanco al inicio y final\n",
    "minusculas = texto.lower()\n",
    "palabras = texto.split()  # ['Análisis', 'de', 'Oscilaciones', 'Armónicas']"
   ]
  },
  {
   "cell_type": "code",
   "execution_count": null,
   "id": "7fdee6db",
   "metadata": {},
   "outputs": [],
   "source": [
    "texto_limpio"
   ]
  },
  {
   "cell_type": "code",
   "execution_count": null,
   "id": "c2d45ab6",
   "metadata": {},
   "outputs": [],
   "source": [
    "# Verificación\n",
    "es_numerico = \"9.81\".isdigit()  # False (por el punto decimal)\n",
    "contiene = \"energía\" in \"Conservación de la energía\"  # True"
   ]
  },
  {
   "cell_type": "markdown",
   "id": "a09ffd99",
   "metadata": {},
   "source": [
    "## Operaciones Comunes y Métodos para Estructuras de Datos\n",
    "### Métodos de Listas"
   ]
  },
  {
   "cell_type": "code",
   "execution_count": null,
   "id": "167fa201",
   "metadata": {},
   "outputs": [],
   "source": [
    "datos = [5.2, 4.8, 6.1, 5.9]\n",
    "\n",
    "# Estadísticas básicas\n",
    "suma = sum(datos)\n",
    "promedio = suma / len(datos)\n",
    "datos.sort()  # Ordena la lista in-place\n",
    "minimo = min(datos)\n",
    "maximo = max(datos)"
   ]
  },
  {
   "cell_type": "code",
   "execution_count": null,
   "id": "4afa454c",
   "metadata": {},
   "outputs": [],
   "source": [
    "# Otros métodos útiles\n",
    "datos.reverse()  # Invierte el orden\n",
    "datos.insert(1, 5.5)  # Inserta 5.5 en la posición 1\n",
    "indice = datos.index(5.9)  # Encuentra la posición de 5.9"
   ]
  },
  {
   "cell_type": "markdown",
   "id": "9761e365",
   "metadata": {},
   "source": [
    "### Operaciones con diccionarios"
   ]
  },
  {
   "cell_type": "code",
   "execution_count": null,
   "id": "01969412",
   "metadata": {},
   "outputs": [],
   "source": [
    "particulas = {\"electron\": 9.1e-31, \"proton\": 1.67e-27, \"neutron\": 1.67e-27}\n",
    "\n",
    "# Obtener listas de claves y valores\n",
    "nombres = list(particulas.keys())\n",
    "masas = list(particulas.values())\n"
   ]
  },
  {
   "cell_type": "code",
   "execution_count": null,
   "id": "2f47b1f1",
   "metadata": {},
   "outputs": [],
   "source": [
    "# Iterar a través de un diccionario\n",
    "for particula, masa in particulas.items():\n",
    "    print(f\"La masa del {particula} es {masa} kg\")"
   ]
  },
  {
   "cell_type": "code",
   "execution_count": null,
   "id": "e728c5ef",
   "metadata": {},
   "outputs": [],
   "source": [
    "# Método get (evita errores si la clave no existe)\n",
    "masa_muon = particulas.get(\"muon\", \"desconocida\")\n",
    "masa_muon"
   ]
  },
  {
   "cell_type": "markdown",
   "id": "f27e7369",
   "metadata": {},
   "source": [
    "### Comprensiones de Listas\n",
    "Una forma elegante y concisa de crear listas basadas en otra secuencia:"
   ]
  },
  {
   "cell_type": "code",
   "execution_count": null,
   "id": "e2baecaf",
   "metadata": {},
   "outputs": [],
   "source": [
    "# Convertir temperaturas de Celsius a Kelvin\n",
    "temp_celsius = [22.5, 19.8, 25.2, 18.7]\n",
    "temp_kelvin = [t + 273.15 for t in temp_celsius]"
   ]
  },
  {
   "cell_type": "code",
   "execution_count": null,
   "id": "2540701d",
   "metadata": {},
   "outputs": [],
   "source": [
    "# Filtrar valores\n",
    "mediciones_validas = [x for x in mediciones if 9.7 <= x <= 9.9]\n",
    "mediciones_validas"
   ]
  },
  {
   "cell_type": "code",
   "execution_count": null,
   "id": "361c627c",
   "metadata": {},
   "outputs": [],
   "source": [
    "# Más complejo: crear pares (x, f(x)) para graficar\n",
    "x_valores = [x/10 for x in range(0, 101)]  # 0 a 10 en pasos de 0.1\n",
    "y_valores = [x**2 for x in x_valores]  # función f(x) = x²\n",
    "x_valores[:5], y_valores[:5]"
   ]
  },
  {
   "cell_type": "code",
   "execution_count": null,
   "id": "16f12610",
   "metadata": {},
   "outputs": [],
   "source": []
  }
 ],
 "metadata": {
  "kernelspec": {
   "display_name": "base",
   "language": "python",
   "name": "python3"
  },
  "language_info": {
   "codemirror_mode": {
    "name": "ipython",
    "version": 3
   },
   "file_extension": ".py",
   "mimetype": "text/x-python",
   "name": "python",
   "nbconvert_exporter": "python",
   "pygments_lexer": "ipython3",
   "version": "3.12.7"
  }
 },
 "nbformat": 4,
 "nbformat_minor": 5
}
