{
 "cells": [
  {
   "cell_type": "markdown",
   "id": "a7f1e731",
   "metadata": {},
   "source": [
    "# Semana 3: Estructuras de datos\n",
    "\n",
    "Las estructuras de datos en Python son fundamentales para organizar y manipular los datos en sus proyectos. En diversas aplicaciones se manipulan grandes cantidades de datos, estas estructuras facilitan el almacenamiento y manipulación de estos. En este Notebook veremos algunas de las estructuras de datos más comunes utilizadas en Python."
   ]
  },
  {
   "cell_type": "markdown",
   "id": "d710d2a9",
   "metadata": {},
   "source": [
    "## Listas, Tuplas y Conjuntos\n",
    "\n",
    "### Listas\n",
    "\n",
    "Las listas son como \"contenedores ordenados\" que pueden almacenar diferentes tipos de datos y pueden modificarse después de su creación. Se pueden agregar o eliminar algunos elementos. Además, se pueden acceder a ellos mediante un indice, el cual indica la posición del \"contenedor\" en el que se encuentra un elemento especifico."
   ]
  },
  {
   "cell_type": "code",
   "execution_count": 1,
   "id": "58f80879",
   "metadata": {},
   "outputs": [
    {
     "data": {
      "text/plain": [
       "[9.8, 9.83, 9.78, 9.82, 9.79]"
      ]
     },
     "execution_count": 1,
     "metadata": {},
     "output_type": "execute_result"
    }
   ],
   "source": [
    "# Creación de una lista con datos de un experimento\n",
    "mediciones = [9.8, 9.83, 9.78, 9.82, 9.79]\n",
    "mediciones"
   ]
  },
  {
   "cell_type": "code",
   "execution_count": 8,
   "id": "b0988ff2",
   "metadata": {},
   "outputs": [
    {
     "data": {
      "text/plain": [
       "9.82"
      ]
     },
     "execution_count": 8,
     "metadata": {},
     "output_type": "execute_result"
    }
   ],
   "source": [
    "# Acceder a elementos (índices empiezan en 0)\n",
    "medicion = mediciones[-2]  # 9.8\n",
    "medicion"
   ]
  },
  {
   "cell_type": "code",
   "execution_count": 9,
   "id": "914fe819",
   "metadata": {},
   "outputs": [
    {
     "data": {
      "text/plain": [
       "[9.8, 9.83, 0, 9.82, 9.79]"
      ]
     },
     "execution_count": 9,
     "metadata": {},
     "output_type": "execute_result"
    }
   ],
   "source": [
    "# Modificar elementos\n",
    "mediciones[2] = 0\n",
    "mediciones"
   ]
  },
  {
   "cell_type": "markdown",
   "id": "ac051e0e",
   "metadata": {},
   "source": [
    "Existen algunos métodos y funciones que nos permiten modificar u obtener información de las listas creadas."
   ]
  },
  {
   "cell_type": "code",
   "execution_count": 10,
   "id": "6c034709",
   "metadata": {},
   "outputs": [
    {
     "data": {
      "text/plain": [
       "[9.8, 9.83, 0, 9.82, 9.79, 9.77]"
      ]
     },
     "execution_count": 10,
     "metadata": {},
     "output_type": "execute_result"
    }
   ],
   "source": [
    "# Añadir elementos\n",
    "mediciones.append(9.77)\n",
    "mediciones"
   ]
  },
  {
   "cell_type": "code",
   "execution_count": 11,
   "id": "2380fe51",
   "metadata": {},
   "outputs": [
    {
     "data": {
      "text/plain": [
       "[1, 2, 3, 4, 5, 6]"
      ]
     },
     "execution_count": 11,
     "metadata": {},
     "output_type": "execute_result"
    }
   ],
   "source": [
    "# Concatenar listas\n",
    "lista_1 = [1, 2, 3]\n",
    "lista_2 = [4, 5, 6]\n",
    "lista_concatenada = lista_1 + lista_2\n",
    "lista_concatenada"
   ]
  },
  {
   "cell_type": "code",
   "execution_count": null,
   "id": "00293ea7",
   "metadata": {},
   "outputs": [
    {
     "data": {
      "text/plain": [
       "[4, 5, 6]"
      ]
     },
     "execution_count": 14,
     "metadata": {},
     "output_type": "execute_result"
    }
   ],
   "source": [
    "lista_1"
   ]
  },
  {
   "cell_type": "code",
   "execution_count": 15,
   "id": "83de5a93",
   "metadata": {},
   "outputs": [
    {
     "data": {
      "text/plain": [
       "[1, 2, 3, 4, 5, 6]"
      ]
     },
     "execution_count": 15,
     "metadata": {},
     "output_type": "execute_result"
    }
   ],
   "source": [
    "# Agregar una lista a otra\n",
    "lista_1.extend(lista_2)\n",
    "lista_1"
   ]
  },
  {
   "cell_type": "code",
   "execution_count": 16,
   "id": "8de6966c",
   "metadata": {},
   "outputs": [
    {
     "data": {
      "text/plain": [
       "[1, 2, 3, 4, 5, 6]"
      ]
     },
     "execution_count": 16,
     "metadata": {},
     "output_type": "execute_result"
    }
   ],
   "source": [
    "lista_1"
   ]
  },
  {
   "cell_type": "code",
   "execution_count": 17,
   "id": "7abf8bf6",
   "metadata": {},
   "outputs": [
    {
     "data": {
      "text/plain": [
       "6"
      ]
     },
     "execution_count": 17,
     "metadata": {},
     "output_type": "execute_result"
    }
   ],
   "source": [
    "# Longitud de la lista\n",
    "n_mediciones = len(mediciones)  # 6\n",
    "n_mediciones"
   ]
  },
  {
   "cell_type": "markdown",
   "id": "f81c951a",
   "metadata": {},
   "source": [
    "Las rebanadas o slices permiten obtener un segmento de los elementos de una lista a partir de sus indices."
   ]
  },
  {
   "cell_type": "code",
   "execution_count": 19,
   "id": "6ae2b7f4",
   "metadata": {},
   "outputs": [
    {
     "data": {
      "text/plain": [
       "[9.8, 9.83, 0, 9.82, 9.79, 9.77]"
      ]
     },
     "execution_count": 19,
     "metadata": {},
     "output_type": "execute_result"
    }
   ],
   "source": [
    "mediciones"
   ]
  },
  {
   "cell_type": "code",
   "execution_count": 21,
   "id": "95f975f7",
   "metadata": {},
   "outputs": [
    {
     "data": {
      "text/plain": [
       "[9.8, 9.83, 0]"
      ]
     },
     "execution_count": 21,
     "metadata": {},
     "output_type": "execute_result"
    }
   ],
   "source": [
    "# Rebanadas (slices)\n",
    "primeras_tres = mediciones[:3]  # [9.8, 9.83, 9.81]\n",
    "primeras_tres"
   ]
  },
  {
   "cell_type": "code",
   "execution_count": null,
   "id": "3899672d",
   "metadata": {},
   "outputs": [
    {
     "name": "stdout",
     "output_type": "stream",
     "text": [
      "0\n",
      "9.82\n"
     ]
    },
    {
     "data": {
      "text/plain": [
       "[9.8, 9.83, 0, 9.82, 9.79, 9.77]"
      ]
     },
     "execution_count": 24,
     "metadata": {},
     "output_type": "execute_result"
    }
   ],
   "source": [
    "# Interacción con el bucle for\n",
    "for medicion in mediciones:\n",
    "    print(medicion)\n",
    "mediciones"
   ]
  },
  {
   "cell_type": "markdown",
   "id": "733b3ac4",
   "metadata": {},
   "source": [
    "Las listas pueden contener diferentes tipos de datos, proporcionando flexibilidad para manipular una gran cantidad de datos."
   ]
  },
  {
   "cell_type": "code",
   "execution_count": 26,
   "id": "917a54c1",
   "metadata": {},
   "outputs": [
    {
     "name": "stdout",
     "output_type": "stream",
     "text": [
      "elemento: 9.8       \t tipo: <class 'float'>\n",
      "elemento: nueve     \t tipo: <class 'str'>\n",
      "elemento: 1         \t tipo: <class 'bool'>\n",
      "elemento: 3.14      \t tipo: <class 'float'>\n",
      "elemento: 5         \t tipo: <class 'int'>\n"
     ]
    }
   ],
   "source": [
    "# Flexibilidad de las listas\n",
    "# Se pueden mezclar tipos de datos\n",
    "mezcla = [9.8, \"nueve\", True, 3.14, 5]\n",
    "for elemento in mezcla:\n",
    "    print(f'elemento: {elemento:<10}\\t tipo: {type(elemento)}')"
   ]
  },
  {
   "cell_type": "markdown",
   "id": "6248bf32",
   "metadata": {},
   "source": [
    "### Tuplas\n",
    "Las tuplas son como listas pero inmutables (no se pueden modificar después de crearse). Son ideales para datos que no deben cambiar.\n"
   ]
  },
  {
   "cell_type": "code",
   "execution_count": 27,
   "id": "0174a584",
   "metadata": {},
   "outputs": [],
   "source": [
    "# Constantes físicas (no queremos que se modifiquen accidentalmente)\n",
    "constante_gravitacional = (6.674e-11, \"N·m²/kg²\")\n",
    "constante_planck = (6.626e-34, \"J·s\")\n",
    "\n",
    "# Las tuplas pueden usarse como claves en diccionarios\n",
    "# No se pueden modificar: constante_planck[0] = 3 daría error"
   ]
  },
  {
   "cell_type": "code",
   "execution_count": 28,
   "id": "f392483b",
   "metadata": {},
   "outputs": [
    {
     "ename": "TypeError",
     "evalue": "'tuple' object does not support item assignment",
     "output_type": "error",
     "traceback": [
      "\u001b[1;31m---------------------------------------------------------------------------\u001b[0m",
      "\u001b[1;31mTypeError\u001b[0m                                 Traceback (most recent call last)",
      "Cell \u001b[1;32mIn[28], line 1\u001b[0m\n\u001b[1;32m----> 1\u001b[0m constante_planck[\u001b[38;5;241m0\u001b[39m] \u001b[38;5;241m=\u001b[39m \u001b[38;5;241m3\u001b[39m\n",
      "\u001b[1;31mTypeError\u001b[0m: 'tuple' object does not support item assignment"
     ]
    }
   ],
   "source": [
    "constante_planck[0] = 3"
   ]
  },
  {
   "cell_type": "code",
   "execution_count": 29,
   "id": "bb6a9014",
   "metadata": {},
   "outputs": [
    {
     "name": "stdout",
     "output_type": "stream",
     "text": [
      "elemento: 6.674e-11 \t tipo: <class 'float'>\n",
      "elemento: N*m^2/kg^2\t tipo: <class 'str'>\n"
     ]
    }
   ],
   "source": [
    "constante_gravitacional = (6.674e-11, \"N*m^2/kg^2\")\n",
    "for elemento in constante_gravitacional:\n",
    "    print(f'elemento: {elemento:<10}\\t tipo: {type(elemento)}')"
   ]
  },
  {
   "cell_type": "markdown",
   "id": "40821274",
   "metadata": {},
   "source": [
    "### Conjuntos (sets)\n",
    "\n",
    "Los conjuntos almacenan elementos únicos y no ordenados, ideales para eliminar duplicados y operaciones matemáticas de conjuntos."
   ]
  },
  {
   "cell_type": "code",
   "execution_count": null,
   "id": "834f2980",
   "metadata": {},
   "outputs": [
    {
     "data": {
      "text/plain": [
       "{0, 1, 2, 3}"
      ]
     },
     "execution_count": 31,
     "metadata": {},
     "output_type": "execute_result"
    }
   ],
   "source": [
    "# Configuraciones cuánticas posibles de un sistema\n",
    "configuracion_A = {0, 1, 2, 3}\n",
    "configuracion_B = {2, 3, 4, 5}\n",
    "configuracion_A"
   ]
  },
  {
   "cell_type": "code",
   "execution_count": 32,
   "id": "d0f77453",
   "metadata": {},
   "outputs": [],
   "source": [
    "# Operaciones de conjuntos\n",
    "interseccion = configuracion_A & configuracion_B  # {2, 3}\n",
    "union = configuracion_A | configuracion_B  # {0, 1, 2, 3, 4, 5}\n",
    "diferencia = configuracion_A - configuracion_B  # {0, 1}"
   ]
  },
  {
   "cell_type": "code",
   "execution_count": 35,
   "id": "973f94fe",
   "metadata": {},
   "outputs": [
    {
     "data": {
      "text/plain": [
       "{0, 1}"
      ]
     },
     "execution_count": 35,
     "metadata": {},
     "output_type": "execute_result"
    }
   ],
   "source": [
    "diferencia"
   ]
  },
  {
   "cell_type": "markdown",
   "id": "128ca127",
   "metadata": {},
   "source": [
    "## Diccionarios\n",
    "Los diccionarios son estructuras de datos tipo \"clave-valor\", como un mapa que asocia etiquetas (claves) con valores. Son extremadamente útiles para datos etiquetados."
   ]
  },
  {
   "cell_type": "code",
   "execution_count": 36,
   "id": "ee9f36b3",
   "metadata": {},
   "outputs": [
    {
     "data": {
      "text/plain": [
       "{'densidad': 2.7,\n",
       " 'conductividad_termica': 237,\n",
       " 'punto_fusion': 660,\n",
       " 'modulo_young': 69000000000.0}"
      ]
     },
     "execution_count": 36,
     "metadata": {},
     "output_type": "execute_result"
    }
   ],
   "source": [
    "# Propiedades de un material\n",
    "aluminio = {\n",
    "    \"densidad\": 2.7,  # g/cm³\n",
    "    \"conductividad_termica\": 237,  # W/(m·K)\n",
    "    \"punto_fusion\": 660,  # °C\n",
    "    \"modulo_young\": 69e9  # Pa\n",
    "}\n",
    "aluminio"
   ]
  },
  {
   "cell_type": "code",
   "execution_count": 38,
   "id": "b17b512c",
   "metadata": {},
   "outputs": [
    {
     "data": {
      "text/plain": [
       "660"
      ]
     },
     "execution_count": 38,
     "metadata": {},
     "output_type": "execute_result"
    }
   ],
   "source": [
    "# Acceder a valores\n",
    "densidad_aluminio = aluminio[\"punto_fusion\"]  # 2.7\n",
    "densidad_aluminio"
   ]
  },
  {
   "cell_type": "code",
   "execution_count": 39,
   "id": "8a407493",
   "metadata": {},
   "outputs": [
    {
     "data": {
      "text/plain": [
       "{'densidad': 2.7,\n",
       " 'conductividad_termica': 237,\n",
       " 'punto_fusion': 660,\n",
       " 'modulo_young': 69000000000.0,\n",
       " 'resistividad': 2.65e-08}"
      ]
     },
     "execution_count": 39,
     "metadata": {},
     "output_type": "execute_result"
    }
   ],
   "source": [
    "# Añadir o modificar valores\n",
    "aluminio[\"resistividad\"] = 2.65e-8  # Ohm·m\n",
    "aluminio"
   ]
  },
  {
   "cell_type": "code",
   "execution_count": 44,
   "id": "f4274cfb",
   "metadata": {},
   "outputs": [
    {
     "name": "stdout",
     "output_type": "stream",
     "text": [
      "Punto de ebullición desconocido\n"
     ]
    }
   ],
   "source": [
    "# Verificar si una clave existe\n",
    "if \"ebullicion\" in aluminio:\n",
    "    print(\"Conocemos la resistividad\")\n",
    "else:\n",
    "    print(\"Punto de ebullición desconocido\")"
   ]
  },
  {
   "cell_type": "code",
   "execution_count": 45,
   "id": "da2271af",
   "metadata": {},
   "outputs": [
    {
     "data": {
      "text/plain": [
       "dict_keys(['densidad', 'conductividad_termica', 'punto_fusion', 'modulo_young', 'resistividad'])"
      ]
     },
     "execution_count": 45,
     "metadata": {},
     "output_type": "execute_result"
    }
   ],
   "source": [
    "aluminio.keys()  # ['densidad', 'conductividad_termica', 'punto_fusion', 'modulo_young', 'resistividad']"
   ]
  },
  {
   "cell_type": "code",
   "execution_count": 46,
   "id": "e613af4c",
   "metadata": {},
   "outputs": [
    {
     "name": "stdout",
     "output_type": "stream",
     "text": [
      "densidad\n",
      "conductividad_termica\n",
      "punto_fusion\n",
      "modulo_young\n",
      "resistividad\n"
     ]
    }
   ],
   "source": [
    "for key in aluminio.keys():\n",
    "    print(f'{key}')"
   ]
  },
  {
   "cell_type": "code",
   "execution_count": 47,
   "id": "006c3e1c",
   "metadata": {},
   "outputs": [
    {
     "data": {
      "text/plain": [
       "dict_values([2.7, 237, 660, 69000000000.0, 2.65e-08])"
      ]
     },
     "execution_count": 47,
     "metadata": {},
     "output_type": "execute_result"
    }
   ],
   "source": [
    "aluminio.values()  # [2.7, 237, 660, 69000000000.0, 2.65e-08]"
   ]
  },
  {
   "cell_type": "code",
   "execution_count": 48,
   "id": "52483da2",
   "metadata": {},
   "outputs": [
    {
     "name": "stdout",
     "output_type": "stream",
     "text": [
      "2.7\n",
      "237\n",
      "660\n",
      "69000000000.0\n",
      "2.65e-08\n"
     ]
    }
   ],
   "source": [
    "for value in aluminio.values():\n",
    "    print(f'{value}')"
   ]
  },
  {
   "cell_type": "code",
   "execution_count": 49,
   "id": "b54fbae3",
   "metadata": {},
   "outputs": [
    {
     "data": {
      "text/plain": [
       "dict_items([('densidad', 2.7), ('conductividad_termica', 237), ('punto_fusion', 660), ('modulo_young', 69000000000.0), ('resistividad', 2.65e-08)])"
      ]
     },
     "execution_count": 49,
     "metadata": {},
     "output_type": "execute_result"
    }
   ],
   "source": [
    "aluminio.items()  # [('densidad', 2.7), ('conductividad_termica', 237), ('punto_fusion', 660), ('modulo_young', 69000000000.0), ('resistividad', 2.65e-08)]"
   ]
  },
  {
   "cell_type": "code",
   "execution_count": 50,
   "id": "ad4384d4",
   "metadata": {},
   "outputs": [
    {
     "name": "stdout",
     "output_type": "stream",
     "text": [
      "densidad: 2.7\n",
      "conductividad_termica: 237\n",
      "punto_fusion: 660\n",
      "modulo_young: 69000000000.0\n",
      "resistividad: 2.65e-08\n"
     ]
    }
   ],
   "source": [
    "for key, value in aluminio.items():\n",
    "    print(f'{key}: {value}')"
   ]
  },
  {
   "cell_type": "markdown",
   "id": "efcda92d",
   "metadata": {},
   "source": [
    "## Manipulación de Cadenas de Texto\n",
    "Las cadenas de texto (strings) son secuencias de caracteres, útiles para datos textuales, nombres, etiquetas y formateo de resultados."
   ]
  },
  {
   "cell_type": "code",
   "execution_count": null,
   "id": "79165ce7",
   "metadata": {},
   "outputs": [],
   "source": [
    "# Formateo de resultados experimentales\n",
    "valor = 9.81\n",
    "incertidumbre = 0.02\n",
    "resultado = f\"g = {valor} ± {incertidumbre} m/s²\"\n",
    "resultado"
   ]
  },
  {
   "cell_type": "code",
   "execution_count": null,
   "id": "f1fc6fc1",
   "metadata": {},
   "outputs": [],
   "source": [
    "# Concatenación\n",
    "titulo = \"Experimento \" + \"de Caída Libre\"\n",
    "titulo"
   ]
  },
  {
   "cell_type": "code",
   "execution_count": null,
   "id": "a441ed19",
   "metadata": {},
   "outputs": [],
   "source": [
    "# Métodos útiles\n",
    "texto = \"  Análisis de Oscilaciones Armónicas  \"\n",
    "texto_limpio = texto.strip()  # Elimina espacios en blanco al inicio y final\n",
    "minusculas = texto.lower()\n",
    "palabras = texto.split()  # ['Análisis', 'de', 'Oscilaciones', 'Armónicas']"
   ]
  },
  {
   "cell_type": "code",
   "execution_count": null,
   "id": "7fdee6db",
   "metadata": {},
   "outputs": [],
   "source": [
    "texto_limpio"
   ]
  },
  {
   "cell_type": "code",
   "execution_count": null,
   "id": "c2d45ab6",
   "metadata": {},
   "outputs": [],
   "source": [
    "# Verificación\n",
    "es_numerico = \"9.81\".isdigit()  # False (por el punto decimal)\n",
    "contiene = \"energía\" in \"Conservación de la energía\"  # True"
   ]
  },
  {
   "cell_type": "markdown",
   "id": "a09ffd99",
   "metadata": {},
   "source": [
    "## Operaciones Comunes y Métodos para Estructuras de Datos\n",
    "### Métodos de Listas"
   ]
  },
  {
   "cell_type": "code",
   "execution_count": null,
   "id": "167fa201",
   "metadata": {},
   "outputs": [],
   "source": [
    "datos = [5.2, 4.8, 6.1, 5.9]\n",
    "\n",
    "# Estadísticas básicas\n",
    "suma = sum(datos)\n",
    "promedio = suma / len(datos)\n",
    "datos.sort()  # Ordena la lista in-place\n",
    "minimo = min(datos)\n",
    "maximo = max(datos)"
   ]
  },
  {
   "cell_type": "code",
   "execution_count": null,
   "id": "4afa454c",
   "metadata": {},
   "outputs": [],
   "source": [
    "# Otros métodos útiles\n",
    "datos.reverse()  # Invierte el orden\n",
    "datos.insert(1, 5.5)  # Inserta 5.5 en la posición 1\n",
    "indice = datos.index(5.9)  # Encuentra la posición de 5.9"
   ]
  },
  {
   "cell_type": "markdown",
   "id": "9761e365",
   "metadata": {},
   "source": [
    "### Operaciones con diccionarios"
   ]
  },
  {
   "cell_type": "code",
   "execution_count": null,
   "id": "01969412",
   "metadata": {},
   "outputs": [],
   "source": [
    "particulas = {\"electron\": 9.1e-31, \"proton\": 1.67e-27, \"neutron\": 1.67e-27}\n",
    "\n",
    "# Obtener listas de claves y valores\n",
    "nombres = list(particulas.keys())\n",
    "masas = list(particulas.values())\n"
   ]
  },
  {
   "cell_type": "code",
   "execution_count": null,
   "id": "2f47b1f1",
   "metadata": {},
   "outputs": [],
   "source": [
    "# Iterar a través de un diccionario\n",
    "for particula, masa in particulas.items():\n",
    "    print(f\"La masa del {particula} es {masa} kg\")"
   ]
  },
  {
   "cell_type": "code",
   "execution_count": null,
   "id": "e728c5ef",
   "metadata": {},
   "outputs": [],
   "source": [
    "# Método get (evita errores si la clave no existe)\n",
    "masa_muon = particulas.get(\"muon\", \"desconocida\")\n",
    "masa_muon"
   ]
  },
  {
   "cell_type": "markdown",
   "id": "f27e7369",
   "metadata": {},
   "source": [
    "### Comprensiones de Listas\n",
    "Una forma elegante y concisa de crear listas basadas en otra secuencia:"
   ]
  },
  {
   "cell_type": "code",
   "execution_count": null,
   "id": "e2baecaf",
   "metadata": {},
   "outputs": [],
   "source": [
    "# Convertir temperaturas de Celsius a Kelvin\n",
    "temp_celsius = [22.5, 19.8, 25.2, 18.7]\n",
    "temp_kelvin = [t + 273.15 for t in temp_celsius]"
   ]
  },
  {
   "cell_type": "code",
   "execution_count": null,
   "id": "2540701d",
   "metadata": {},
   "outputs": [],
   "source": [
    "# Filtrar valores\n",
    "mediciones_validas = [x for x in mediciones if 9.7 <= x <= 9.9]\n",
    "mediciones_validas"
   ]
  },
  {
   "cell_type": "code",
   "execution_count": null,
   "id": "361c627c",
   "metadata": {},
   "outputs": [],
   "source": [
    "# Más complejo: crear pares (x, f(x)) para graficar\n",
    "x_valores = [x/10 for x in range(0, 101)]  # 0 a 10 en pasos de 0.1\n",
    "y_valores = [x**2 for x in x_valores]  # función f(x) = x²\n",
    "x_valores[:5], y_valores[:5]"
   ]
  },
  {
   "cell_type": "code",
   "execution_count": null,
   "id": "16f12610",
   "metadata": {},
   "outputs": [],
   "source": []
  }
 ],
 "metadata": {
  "kernelspec": {
   "display_name": "base",
   "language": "python",
   "name": "python3"
  },
  "language_info": {
   "codemirror_mode": {
    "name": "ipython",
    "version": 3
   },
   "file_extension": ".py",
   "mimetype": "text/x-python",
   "name": "python",
   "nbconvert_exporter": "python",
   "pygments_lexer": "ipython3",
   "version": "3.12.7"
  }
 },
 "nbformat": 4,
 "nbformat_minor": 5
}
