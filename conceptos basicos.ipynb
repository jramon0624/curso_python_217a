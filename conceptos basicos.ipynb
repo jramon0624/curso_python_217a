{
 "cells": [
  {
   "cell_type": "markdown",
   "metadata": {},
   "source": [
    "## Semana 1: Introducción a Python y Conceptos Básicos\n",
    "\n",
    "### Introducción a la programación con Python\n",
    "\n",
    "Para empezar a programar, debemos entender que la programación es el proceso de crear instrucciones que una computadora puede seguir para realizar tareas específicas. Estas instrucciones se escriben en un lenguaje de programación, que es una forma de comunicación entre los humanos y las máquinas.\n",
    "\n",
    "La programación nos ayuda a resolver problemas al permitirnos automatizar tareas, analizar grandes cantidades de datos, crear aplicaciones y sistemas que facilitan nuestro trabajo diario, y desarrollar soluciones innovadoras para desafíos complejos en diversas áreas como la ciencia, la medicina, la ingeniería y los negocios."
   ]
  },
  {
   "cell_type": "markdown",
   "metadata": {},
   "source": [
    "### Variables y tipos de datos\n",
    "\n",
    "Una variable en Python es un contenedor que se utiliza para almacenar datos. Las variables permiten a los programadores almacenar, modificar y acceder a valores a lo largo del código. En Python, no es necesario declarar el tipo de una variable explícitamente."
   ]
  },
  {
   "cell_type": "code",
   "execution_count": null,
   "metadata": {},
   "outputs": [],
   "source": [
    "# Variables y Tipos de Datos\n",
    "\n",
    "nombre = \"Juan\" # String\n",
    "edad = 25 # Integer\n",
    "altura = 1.75 # Float\n",
    "es_estudiante = True # Boolean"
   ]
  },
  {
   "cell_type": "code",
   "execution_count": null,
   "metadata": {},
   "outputs": [],
   "source": [
    "# Mostrar valores en pantalla\n",
    "\n",
    "print(\"Hola, mi nombre es\",nombre,\"y tengo\",edad,\"años.\")\n",
    "print(f\"Mi altura es de {altura} metros.\")"
   ]
  },
  {
   "cell_type": "code",
   "execution_count": null,
   "metadata": {},
   "outputs": [],
   "source": [
    "# Tipos de datos básicos en Python\n",
    "\n",
    "print(type(nombre)) # str (cadena de texto)\n",
    "print(type(edad)) # int (entero)\n",
    "print(type(altura)) # float (decimal)\n",
    "print(type(es_estudiante)) # bool (booleano: True o False)"
   ]
  },
  {
   "cell_type": "markdown",
   "metadata": {},
   "source": [
    "### Operadores básicos"
   ]
  },
  {
   "cell_type": "code",
   "execution_count": null,
   "metadata": {},
   "outputs": [],
   "source": [
    "# Operadores Básicos\n",
    "\n",
    "suma = 5 + 3\n",
    "resta = 10 - 4\n",
    "multiplicacion = 2 * 6\n",
    "division = 15 / 3  # División normal\n",
    "division_entera = 15 // 4  # División entera\n",
    "modulo = 15 % 4  # Resto de la división\n",
    "potencia = 2 ** 3  # Potenciación"
   ]
  },
  {
   "cell_type": "code",
   "execution_count": null,
   "metadata": {},
   "outputs": [],
   "source": [
    "print(\"Suma:\", suma)\n",
    "print(\"Resta:\", resta)\n",
    "print(\"Multiplicación:\", multiplicacion)\n",
    "print(\"División:\", division)\n",
    "print(\"División entera:\", division_entera)\n",
    "print(\"Módulo:\", modulo)\n",
    "print(\"Potencia:\", potencia)"
   ]
  },
  {
   "cell_type": "markdown",
   "metadata": {},
   "source": [
    "### Entrada de datos desde el teclado"
   ]
  },
  {
   "cell_type": "code",
   "execution_count": null,
   "metadata": {},
   "outputs": [],
   "source": [
    "nombre_usuario = input(\"¿Cuál es tu nombre? \")\n",
    "edad_usuario = int(input(\"¿Cuántos años tienes? \"))"
   ]
  },
  {
   "cell_type": "code",
   "execution_count": null,
   "metadata": {},
   "outputs": [],
   "source": [
    "print(f\"Hola, {nombre_usuario}, tienes {edad_usuario} años.\")"
   ]
  },
  {
   "cell_type": "markdown",
   "metadata": {},
   "source": [
    "### Ejercicio Práctico 1: Calculadora Básica\n",
    "\n",
    "Escribe un programa que pida dos números al usuario y muestre la suma, resta, multiplicación y división."
   ]
  },
  {
   "cell_type": "code",
   "execution_count": null,
   "metadata": {},
   "outputs": [],
   "source": [
    "num1 = float(input(\"Ingrese el primer número: \"))\n",
    "num2 = float(input(\"Ingrese el segundo número: \"))\n",
    "\n",
    "print(f\"La suma de {num1} y {num2} es {num1 + num2}.\")\n",
    "print(f\"La resta de {num1} y {num2} es {num1 - num2}.\")\n",
    "print(f\"La multiplicación de {num1} y {num2} es {num1 * num2}.\")\n",
    "print(f\"La división de {num1} y {num2} es {num1 / num2}.\")"
   ]
  },
  {
   "cell_type": "markdown",
   "metadata": {},
   "source": [
    "### Ejercicio Práctico 2: Corrección de código\n",
    "\n",
    "Un automovil parte del reposo y acelera uniformemente a una velocidad de 3 metros por segundo al cuadrado durante 5 segundos. Realiza lo siguiente:\n",
    "- Ejecuta la celda a continuación la cual contiene una solución erronea del cálculo de la distancia recorrida.\n",
    "- Modifica el código agregando o quitando los parentesis correspondientes en una celda separada."
   ]
  },
  {
   "cell_type": "code",
   "execution_count": null,
   "metadata": {},
   "outputs": [],
   "source": [
    "# Datos iniciales\n",
    "v0 = 0\n",
    "a = 3\n",
    "t = 5\n",
    "\n",
    "# Cálculo incorrecto sin paréntesis\n",
    "s_incorrecto = v0 * (t + 1/2) * a * t ** 2\n",
    "print(\"Distancia incorrecta:\", s_incorrecto)"
   ]
  },
  {
   "cell_type": "code",
   "execution_count": null,
   "metadata": {},
   "outputs": [],
   "source": [
    "# Cálculo correcto con paréntesis\n",
    "s_correcto = v0 * t + 1/2 * a * t ** 2\n",
    "print(\"Distancia correcta:\", s_correcto)"
   ]
  }
 ],
 "metadata": {
  "kernelspec": {
   "display_name": "Python 3",
   "language": "python",
   "name": "python3"
  },
  "language_info": {
   "codemirror_mode": {
    "name": "ipython",
    "version": 3
   },
   "file_extension": ".py",
   "mimetype": "text/x-python",
   "name": "python",
   "nbconvert_exporter": "python",
   "pygments_lexer": "ipython3",
   "version": "3.13.2"
  }
 },
 "nbformat": 4,
 "nbformat_minor": 2
}
