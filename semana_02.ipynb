{
 "cells": [
  {
   "cell_type": "markdown",
   "id": "a41a572c",
   "metadata": {},
   "source": [
    "# Semana 2: Control de Flujo y Bucles\n",
    "\n",
    "¡Hola futuros ingenieros! Vamos a ver cómo Python puede ayudarles a resolver problemas de física y matemáticas a través del control de flujo y bucles. Estos conceptos son fundamentales y les serán útiles para modelar fenómenos físicos y resolver problemas de cálculo.\n",
    "\n",
    "## Sentencias condicionales (if, elif, else)\n",
    "\n",
    "Las sentencias condicionales son como \"decisiones\" en su código. Su estructura general es la siguiente:\n",
    "\n",
    "```python\n",
    "if condicion:   # Condición principal (operación lógica o variable booleana)\n",
    "    # Bloque de código si se cumple la condición principal\n",
    "elif condicion: # Condición secundaria (operación lógica o variable booleana)\n",
    "    # Bloque de código si se cumple esta condición secundaria (opcional)\n",
    "else:\n",
    "    # Bloque de código si no se cumple ninguna de las condiciones anteriores (opcional)\n",
    "```\n",
    "\n",
    "Imaginen que están calculando la trayectoria de un objeto y necesitan aplicar diferentes ecuaciones según las condiciones iniciales."
   ]
  },
  {
   "cell_type": "code",
   "execution_count": null,
   "id": "4f8aa054",
   "metadata": {},
   "outputs": [],
   "source": [
    "# Ejemplo: Clasificador de movimiento para un objeto\n",
    "velocidad = 10  # m/s\n",
    "if velocidad == 0:\n",
    "    print(\"El objeto está en reposo\")\n",
    "elif velocidad < 0:\n",
    "    print(\"El objeto se mueve en dirección negativa\")\n",
    "else:\n",
    "    print(\"El objeto se mueve en dirección positiva\")"
   ]
  },
  {
   "cell_type": "markdown",
   "id": "25dd11b8",
   "metadata": {},
   "source": [
    "## Bucles (for, while)\n",
    "\n",
    "Los bucles les permiten repetir operaciones. Esto es esencial para simulaciones físicas, sumatorias en integrales numéricas o análisis iterativos.\n",
    "\n",
    "### Bucle for\n",
    "\n",
    "Útil cuando conocen la cantidad de iteraciones de antemano:\n",
    "\n",
    "```python\n",
    "for variable in rangr(5):   # La variable cambia de valor segun el rango especificado (5)\n",
    "    #\n",
    "    #  \n",
    "    # Bloque de código que se repetirá en cada iteración\n",
    "    #\n",
    "    #\n",
    "# Código que no se ejecuta en el bucle\n",
    "```\n",
    "\n",
    "Ejemplo:"
   ]
  },
  {
   "cell_type": "code",
   "execution_count": null,
   "id": "e807c0f7",
   "metadata": {},
   "outputs": [],
   "source": [
    "# Ejemplo: Calcular la posición y velocidad de un objeto en caída libre en diferentes tiempos\n",
    "g = 9.8  # m/s²\n",
    "h0 = 100  # altura inicial (m)\n",
    "v0 = 0   # velocidad inicial (m/s)\n",
    "\n",
    "print(f\"{'Tiempo (s)':>10}  {'Altura (m)':>10}  {'Velocidad (m/s)':>15}\")\n",
    "\n",
    "for t in range(11):  # 0 a 10 segundos\n",
    "    v = v0 - g*t  # velocidad en caída libre\n",
    "    h = h0 + v0*t - 0.5*g*(t**2)    # altura en caída libre\n",
    "    print(f\"{t:>10}  {h:>10.2f}  {v:>15.2f}\")\n",
    "print(\"Fin del programa\")"
   ]
  },
  {
   "cell_type": "markdown",
   "id": "c1f31627",
   "metadata": {},
   "source": [
    "### Bucle while\n",
    "Ideal cuando no saben cuántas iteraciones necesitarán, sino que depende de una condición:"
   ]
  },
  {
   "cell_type": "code",
   "execution_count": null,
   "id": "05272d15",
   "metadata": {},
   "outputs": [],
   "source": [
    "# Ejemplo: Encontrar el tiempo que tarda un objeto en caer al suelo\n",
    "g = 9.8  # m/s²\n",
    "h0 = 100  # altura inicial (m)\n",
    "v0 = 0   # velocidad inicial (m/s)\n",
    "t = 0    # tiempo inicial\n",
    "h = h0   # altura inicial\n",
    "\n",
    "while h > 0:\n",
    "    print(f\"t = {t}s: altura = {h:.2f}m\")\n",
    "    t += 0.5  # incrementamos en pasos de 0.5s\n",
    "    h = h0 + v0*t - 0.5*g*(t**2)\n",
    "\n",
    "print(f\"El objeto llegó al suelo aproximadamente a los {t:.2f} segundos\")"
   ]
  },
  {
   "cell_type": "markdown",
   "id": "db719449",
   "metadata": {},
   "source": [
    "### Bucles anidados y mejores prácticas\n",
    "Los bucles anidados (un bucle dentro de otro) son muy útiles para problemas de múltiples dimensiones:"
   ]
  },
  {
   "cell_type": "code",
   "execution_count": null,
   "id": "ec4ab1f0",
   "metadata": {},
   "outputs": [],
   "source": [
    "# Ejemplo: Calcular el campo eléctrico en un plano 2D debido a una carga puntual\n",
    "import math\n",
    "\n",
    "# Coordenadas de la carga\n",
    "x_carga = 0\n",
    "y_carga = 0\n",
    "q = 1.0  # carga en unidades arbitrarias\n",
    "\n",
    "# Exploramos puntos en el plano\n",
    "for x in range(-5, 6, 2):  # de -5 a 5 con paso 2\n",
    "    for y in range(-5, 6, 2):\n",
    "        if x == x_carga and y == y_carga:\n",
    "            print(f\"Punto ({x},{y}): contiene la carga\")\n",
    "            continue\n",
    "            \n",
    "        # Calculamos la distancia\n",
    "        r = math.sqrt((x - x_carga)**2 + (y - y_carga)**2)\n",
    "        # Magnitud del campo (proporcional a 1/r²)\n",
    "        E = q / (r**2)\n",
    "        \n",
    "        print(f\"Punto ({x},{y}): |E| = {E:.4f}\")"
   ]
  },
  {
   "cell_type": "markdown",
   "id": "ff6074f8",
   "metadata": {},
   "source": [
    "# Aplicación al cálculo integral\n",
    "Pueden usar bucles para implementar métodos numéricos como la regla del [trapecio](https://es.wikipedia.org/wiki/Regla_del_trapecio) o Simpson:"
   ]
  },
  {
   "cell_type": "code",
   "execution_count": null,
   "id": "78b21ecc",
   "metadata": {},
   "outputs": [],
   "source": [
    "# Ejemplo: Integración numérica por el método del trapecio\n",
    "# Para calcular ∫(0 a π) sin(x) dx\n",
    "\n",
    "import math\n",
    "\n",
    "# Parámetros\n",
    "a = 0       # límite inferior\n",
    "b = math.pi # límite superior\n",
    "n = 1000    # número de subintervalos\n",
    "\n",
    "# Ancho de cada subintervalo\n",
    "h = (b - a) / n\n",
    "\n",
    "# Implementación de la regla del trapecio\n",
    "integral = 0.5 * (math.sin(a) + math.sin(b))  # términos extremos\n",
    "\n",
    "for i in range(1, n):\n",
    "    x = a + i * h\n",
    "    integral += math.sin(x)\n",
    "\n",
    "integral *= h\n",
    "\n",
    "print(f\"Aproximación numérica: {integral:.6f}\")\n",
    "print(f\"Valor exacto: {2:.6f}\")"
   ]
  }
 ],
 "metadata": {
  "kernelspec": {
   "display_name": "analisis_datos",
   "language": "python",
   "name": "python3"
  },
  "language_info": {
   "codemirror_mode": {
    "name": "ipython",
    "version": 3
   },
   "file_extension": ".py",
   "mimetype": "text/x-python",
   "name": "python",
   "nbconvert_exporter": "python",
   "pygments_lexer": "ipython3",
   "version": "3.11.11"
  }
 },
 "nbformat": 4,
 "nbformat_minor": 5
}
