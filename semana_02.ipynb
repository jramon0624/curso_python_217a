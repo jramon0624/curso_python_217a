{
 "cells": [
  {
   "cell_type": "markdown",
   "id": "a41a572c",
   "metadata": {},
   "source": [
    "# Semana 2: Control de Flujo y Bucles\n",
    "\n",
    "¡Hola futuros ingenieros! Vamos a ver cómo Python puede ayudarles a resolver problemas de física y matemáticas a través del control de flujo y bucles. Estos conceptos son fundamentales y les serán útiles para modelar fenómenos físicos y resolver problemas de cálculo.\n",
    "\n",
    "## Sentencias condicionales (if, elif, else)\n",
    "\n",
    "Las sentencias condicionales son como \"decisiones\" en su código. Su estructura general es la siguiente:\n",
    "\n",
    "```python\n",
    "if condicion:   # Condición principal (operación lógica o variable booleana)\n",
    "    # Bloque de código si se cumple la condición principal\n",
    "elif condicion: # Condición secundaria (operación lógica o variable booleana)\n",
    "    # Bloque de código si se cumple esta condición secundaria (opcional)\n",
    "else:\n",
    "    # Bloque de código si no se cumple ninguna de las condiciones anteriores (opcional)\n",
    "```\n",
    "\n",
    "Imaginen que están calculando la trayectoria de un objeto y necesitan aplicar diferentes ecuaciones según las condiciones iniciales."
   ]
  },
  {
   "cell_type": "code",
   "execution_count": null,
   "id": "4f8aa054",
   "metadata": {},
   "outputs": [
    {
     "name": "stdout",
     "output_type": "stream",
     "text": [
      "El objeto está en reposo\n",
      "Fin del programa\n"
     ]
    }
   ],
   "source": [
    "# Ejemplo: Clasificador de movimiento para un objeto\n",
    "velocidad = 0  # m/s\n",
    "if velocidad == 0:\n",
    "    print(\"El objeto está en reposo\")\n",
    "elif velocidad < 0:\n",
    "    print(\"El objeto se mueve en dirección negativa\")\n",
    "else:\n",
    "    print(\"El objeto se mueve en dirección positiva\")\n",
    "    \n",
    "print(\"Fin del programa\")\n"
   ]
  },
  {
   "cell_type": "markdown",
   "id": "25dd11b8",
   "metadata": {},
   "source": [
    "## Bucles (for, while)\n",
    "\n",
    "Los bucles les permiten repetir operaciones. Esto es esencial para simulaciones físicas, sumatorias en integrales numéricas o análisis iterativos.\n",
    "\n",
    "### Bucle for\n",
    "\n",
    "Útil cuando conocen la cantidad de iteraciones de antemano:\n",
    "\n",
    "```python\n",
    "for variable in range(5):   # La variable cambia de valor segun el rango especificado (5)\n",
    "    #\n",
    "    #  \n",
    "    # Bloque de código que se repetirá en cada iteración\n",
    "    #\n",
    "    #\n",
    "# Código que no se ejecuta en el bucle\n",
    "```\n",
    "\n",
    "Ejemplo:"
   ]
  },
  {
   "cell_type": "code",
   "execution_count": 4,
   "id": "e807c0f7",
   "metadata": {},
   "outputs": [
    {
     "name": "stdout",
     "output_type": "stream",
     "text": [
      "Tiempo (s)  Altura (m)  Velocidad (m/s)\n",
      "         0      100.00             0.00\n",
      "         1       95.10            -9.80\n",
      "         2       80.40           -19.60\n",
      "         3       55.90           -29.40\n",
      "         4       21.60           -39.20\n",
      "         5      -22.50           -49.00\n",
      "         6      -76.40           -58.80\n",
      "         7     -140.10           -68.60\n",
      "         8     -213.60           -78.40\n",
      "         9     -296.90           -88.20\n",
      "        10     -390.00           -98.00\n",
      "Fin del programa\n"
     ]
    }
   ],
   "source": [
    "# Ejemplo: Calcular la posición y velocidad de un objeto en caída libre en diferentes tiempos\n",
    "g = 9.8  # m/s²\n",
    "h0 = 100  # altura inicial (m)\n",
    "v0 = 0   # velocidad inicial (m/s)\n",
    "\n",
    "print(f\"{'Tiempo (s)':>10}  {'Altura (m)':>10}  {'Velocidad (m/s)':>15}\")\n",
    "\n",
    "for t in range(11):  # 0 a 10 segundos\n",
    "    v = v0 - g*t  # velocidad en caída libre\n",
    "    h = h0 + v0*t - 0.5*g*(t**2)    # altura en caída libre\n",
    "    print(f\"{t:>10}  {h:>10.2f}  {v:>15.2f}\")\n",
    "print(\"Fin del programa\")"
   ]
  },
  {
   "cell_type": "markdown",
   "id": "c1f31627",
   "metadata": {},
   "source": [
    "### Bucle while\n",
    "Ideal cuando no saben cuántas iteraciones necesitarán, sino que depende de una condición:"
   ]
  },
  {
   "cell_type": "code",
   "execution_count": 8,
   "id": "05272d15",
   "metadata": {},
   "outputs": [
    {
     "name": "stdout",
     "output_type": "stream",
     "text": [
      "t = 0s: altura = 100.00m\n",
      "t = 0.5s: altura = 98.78m\n",
      "t = 1.0s: altura = 95.10m\n",
      "t = 1.5s: altura = 88.97m\n",
      "t = 2.0s: altura = 80.40m\n",
      "t = 2.5s: altura = 69.38m\n",
      "t = 3.0s: altura = 55.90m\n",
      "t = 3.5s: altura = 39.97m\n",
      "t = 4.0s: altura = 21.60m\n",
      "t = 4.5s: altura = 0.77m\n",
      "El objeto llegó al suelo aproximadamente a los 5.00 segundos\n"
     ]
    }
   ],
   "source": [
    "# Ejemplo: Encontrar el tiempo que tarda un objeto en caer al suelo\n",
    "g = 9.8  # m/s²\n",
    "h0 = 100  # altura inicial (m)\n",
    "v0 = 0   # velocidad inicial (m/s)\n",
    "t = 0    # tiempo inicial\n",
    "h = h0   # altura inicial\n",
    "\n",
    "while h > 0:\n",
    "    print(f\"t = {t}s: altura = {h:.2f}m\")\n",
    "    t += 0.5  # incrementamos en pasos de 0.5s\n",
    "    h = h0 + v0*t - 0.5*g*(t**2)\n",
    "\n",
    "print(f\"El objeto llegó al suelo aproximadamente a los {t:.2f} segundos\")"
   ]
  },
  {
   "cell_type": "markdown",
   "id": "db719449",
   "metadata": {},
   "source": [
    "### Bucles anidados y mejores prácticas\n",
    "Los bucles anidados (un bucle dentro de otro) son muy útiles para problemas de múltiples dimensiones:"
   ]
  },
  {
   "cell_type": "code",
   "execution_count": 12,
   "id": "ec4ab1f0",
   "metadata": {},
   "outputs": [
    {
     "name": "stdout",
     "output_type": "stream",
     "text": [
      "Punto (-5,-5): |E| = 0.0200\n",
      "Punto (-5,-4): |E| = 0.0244\n",
      "Punto (-5,-3): |E| = 0.0294\n",
      "Punto (-5,-2): |E| = 0.0345\n",
      "Punto (-5,-1): |E| = 0.0385\n",
      "Punto (-5,0): |E| = 0.0400\n",
      "Punto (-5,1): |E| = 0.0385\n",
      "Punto (-5,2): |E| = 0.0345\n",
      "Punto (-5,3): |E| = 0.0294\n",
      "Punto (-5,4): |E| = 0.0244\n",
      "Punto (-5,5): |E| = 0.0200\n",
      "Punto (-4,-5): |E| = 0.0244\n",
      "Punto (-4,-4): |E| = 0.0312\n",
      "Punto (-4,-3): |E| = 0.0400\n",
      "Punto (-4,-2): |E| = 0.0500\n",
      "Punto (-4,-1): |E| = 0.0588\n",
      "Punto (-4,0): |E| = 0.0625\n",
      "Punto (-4,1): |E| = 0.0588\n",
      "Punto (-4,2): |E| = 0.0500\n",
      "Punto (-4,3): |E| = 0.0400\n",
      "Punto (-4,4): |E| = 0.0312\n",
      "Punto (-4,5): |E| = 0.0244\n",
      "Punto (-3,-5): |E| = 0.0294\n",
      "Punto (-3,-4): |E| = 0.0400\n",
      "Punto (-3,-3): |E| = 0.0556\n",
      "Punto (-3,-2): |E| = 0.0769\n",
      "Punto (-3,-1): |E| = 0.1000\n",
      "Punto (-3,0): |E| = 0.1111\n",
      "Punto (-3,1): |E| = 0.1000\n",
      "Punto (-3,2): |E| = 0.0769\n",
      "Punto (-3,3): |E| = 0.0556\n",
      "Punto (-3,4): |E| = 0.0400\n",
      "Punto (-3,5): |E| = 0.0294\n",
      "Punto (-2,-5): |E| = 0.0345\n",
      "Punto (-2,-4): |E| = 0.0500\n",
      "Punto (-2,-3): |E| = 0.0769\n",
      "Punto (-2,-2): |E| = 0.1250\n",
      "Punto (-2,-1): |E| = 0.2000\n",
      "Punto (-2,0): |E| = 0.2500\n",
      "Punto (-2,1): |E| = 0.2000\n",
      "Punto (-2,2): |E| = 0.1250\n",
      "Punto (-2,3): |E| = 0.0769\n",
      "Punto (-2,4): |E| = 0.0500\n",
      "Punto (-2,5): |E| = 0.0345\n",
      "Punto (-1,-5): |E| = 0.0385\n",
      "Punto (-1,-4): |E| = 0.0588\n",
      "Punto (-1,-3): |E| = 0.1000\n",
      "Punto (-1,-2): |E| = 0.2000\n",
      "Punto (-1,-1): |E| = 0.5000\n",
      "Punto (-1,0): |E| = 1.0000\n",
      "Punto (-1,1): |E| = 0.5000\n",
      "Punto (-1,2): |E| = 0.2000\n",
      "Punto (-1,3): |E| = 0.1000\n",
      "Punto (-1,4): |E| = 0.0588\n",
      "Punto (-1,5): |E| = 0.0385\n",
      "Punto (0,-5): |E| = 0.0400\n",
      "Punto (0,-4): |E| = 0.0625\n",
      "Punto (0,-3): |E| = 0.1111\n",
      "Punto (0,-2): |E| = 0.2500\n",
      "Punto (0,-1): |E| = 1.0000\n",
      "Punto (0,0): contiene la carga\n",
      "Punto (0,1): |E| = 1.0000\n",
      "Punto (0,2): |E| = 0.2500\n",
      "Punto (0,3): |E| = 0.1111\n",
      "Punto (0,4): |E| = 0.0625\n",
      "Punto (0,5): |E| = 0.0400\n",
      "Punto (1,-5): |E| = 0.0385\n",
      "Punto (1,-4): |E| = 0.0588\n",
      "Punto (1,-3): |E| = 0.1000\n",
      "Punto (1,-2): |E| = 0.2000\n",
      "Punto (1,-1): |E| = 0.5000\n",
      "Punto (1,0): |E| = 1.0000\n",
      "Punto (1,1): |E| = 0.5000\n",
      "Punto (1,2): |E| = 0.2000\n",
      "Punto (1,3): |E| = 0.1000\n",
      "Punto (1,4): |E| = 0.0588\n",
      "Punto (1,5): |E| = 0.0385\n",
      "Punto (2,-5): |E| = 0.0345\n",
      "Punto (2,-4): |E| = 0.0500\n",
      "Punto (2,-3): |E| = 0.0769\n",
      "Punto (2,-2): |E| = 0.1250\n",
      "Punto (2,-1): |E| = 0.2000\n",
      "Punto (2,0): |E| = 0.2500\n",
      "Punto (2,1): |E| = 0.2000\n",
      "Punto (2,2): |E| = 0.1250\n",
      "Punto (2,3): |E| = 0.0769\n",
      "Punto (2,4): |E| = 0.0500\n",
      "Punto (2,5): |E| = 0.0345\n",
      "Punto (3,-5): |E| = 0.0294\n",
      "Punto (3,-4): |E| = 0.0400\n",
      "Punto (3,-3): |E| = 0.0556\n",
      "Punto (3,-2): |E| = 0.0769\n",
      "Punto (3,-1): |E| = 0.1000\n",
      "Punto (3,0): |E| = 0.1111\n",
      "Punto (3,1): |E| = 0.1000\n",
      "Punto (3,2): |E| = 0.0769\n",
      "Punto (3,3): |E| = 0.0556\n",
      "Punto (3,4): |E| = 0.0400\n",
      "Punto (3,5): |E| = 0.0294\n",
      "Punto (4,-5): |E| = 0.0244\n",
      "Punto (4,-4): |E| = 0.0312\n",
      "Punto (4,-3): |E| = 0.0400\n",
      "Punto (4,-2): |E| = 0.0500\n",
      "Punto (4,-1): |E| = 0.0588\n",
      "Punto (4,0): |E| = 0.0625\n",
      "Punto (4,1): |E| = 0.0588\n",
      "Punto (4,2): |E| = 0.0500\n",
      "Punto (4,3): |E| = 0.0400\n",
      "Punto (4,4): |E| = 0.0312\n",
      "Punto (4,5): |E| = 0.0244\n",
      "Punto (5,-5): |E| = 0.0200\n",
      "Punto (5,-4): |E| = 0.0244\n",
      "Punto (5,-3): |E| = 0.0294\n",
      "Punto (5,-2): |E| = 0.0345\n",
      "Punto (5,-1): |E| = 0.0385\n",
      "Punto (5,0): |E| = 0.0400\n",
      "Punto (5,1): |E| = 0.0385\n",
      "Punto (5,2): |E| = 0.0345\n",
      "Punto (5,3): |E| = 0.0294\n",
      "Punto (5,4): |E| = 0.0244\n",
      "Punto (5,5): |E| = 0.0200\n"
     ]
    }
   ],
   "source": [
    "# Ejemplo: Calcular el campo eléctrico en un plano 2D debido a una carga puntual\n",
    "import math\n",
    "\n",
    "# Coordenadas de la carga\n",
    "x_carga = 0\n",
    "y_carga = 0\n",
    "q = 1.0  # carga en unidades arbitrarias\n",
    "\n",
    "# Exploramos puntos en el plano\n",
    "for x in range(-5, 6, 1):  # de -5 a 5 con paso 2\n",
    "    for y in range(-5, 6, 1):\n",
    "        if x == x_carga and y == y_carga:\n",
    "            print(f\"Punto ({x},{y}): contiene la carga\")\n",
    "            continue\n",
    "            \n",
    "        # Calculamos la distancia\n",
    "        r = math.sqrt((x - x_carga)**2 + (y - y_carga)**2)\n",
    "        # Magnitud del campo (proporcional a 1/r²)\n",
    "        E = q / (r**2)\n",
    "        \n",
    "        print(f\"Punto ({x},{y}): |E| = {E:.4f}\")"
   ]
  },
  {
   "cell_type": "markdown",
   "id": "ff6074f8",
   "metadata": {},
   "source": [
    "# Aplicación al cálculo integral\n",
    "Pueden usar bucles para implementar métodos numéricos como la regla del [trapecio](https://es.wikipedia.org/wiki/Regla_del_trapecio) o Simpson:"
   ]
  },
  {
   "cell_type": "code",
   "execution_count": 15,
   "id": "78b21ecc",
   "metadata": {},
   "outputs": [
    {
     "name": "stdout",
     "output_type": "stream",
     "text": [
      "Aproximación numérica: 1.813799\n",
      "Valor exacto: 2.000000\n"
     ]
    }
   ],
   "source": [
    "# Ejemplo: Integración numérica por el método del trapecio\n",
    "# Para calcular ∫(0 a π) sin(x) dx\n",
    "\n",
    "import math\n",
    "\n",
    "# Parámetros\n",
    "a = 0       # límite inferior\n",
    "b = math.pi # límite superior\n",
    "n = 3    # número de subintervalos\n",
    "\n",
    "# Ancho de cada subintervalo\n",
    "h = (b - a) / n\n",
    "\n",
    "# Implementación de la regla del trapecio\n",
    "integral = 0.5 * (math.sin(a) + math.sin(b))  # términos extremos\n",
    "\n",
    "for i in range(1, n):\n",
    "    x = a + i * h\n",
    "    integral += math.sin(x)\n",
    "\n",
    "integral *= h\n",
    "\n",
    "print(f\"Aproximación numérica: {integral:.6f}\")\n",
    "print(f\"Valor exacto: {2:.6f}\")"
   ]
  }
 ],
 "metadata": {
  "kernelspec": {
   "display_name": "base",
   "language": "python",
   "name": "python3"
  },
  "language_info": {
   "codemirror_mode": {
    "name": "ipython",
    "version": 3
   },
   "file_extension": ".py",
   "mimetype": "text/x-python",
   "name": "python",
   "nbconvert_exporter": "python",
   "pygments_lexer": "ipython3",
   "version": "3.12.7"
  }
 },
 "nbformat": 4,
 "nbformat_minor": 5
}
